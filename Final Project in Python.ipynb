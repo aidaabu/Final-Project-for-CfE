{
 "cells": [
  {
   "cell_type": "code",
   "execution_count": 1,
   "id": "9cac8727",
   "metadata": {},
   "outputs": [],
   "source": [
    "import os"
   ]
  },
  {
   "cell_type": "code",
   "execution_count": 2,
   "id": "130d6f9a",
   "metadata": {},
   "outputs": [
    {
     "name": "stdout",
     "output_type": "stream",
     "text": [
      "Current Directory: C:\\Users\\Abuova_Aida\n"
     ]
    }
   ],
   "source": [
    "print(\"Current Directory:\", os.getcwd())"
   ]
  },
  {
   "cell_type": "code",
   "execution_count": 3,
   "id": "d9f2c0ba",
   "metadata": {},
   "outputs": [],
   "source": [
    "os.chdir(r\"C:\\Users\\Abuova_Aida\\Desktop\\CfE Final Project\")"
   ]
  },
  {
   "cell_type": "code",
   "execution_count": 4,
   "id": "e537016a",
   "metadata": {},
   "outputs": [],
   "source": [
    "import pandas as pd"
   ]
  },
  {
   "cell_type": "code",
   "execution_count": 5,
   "id": "641744bf",
   "metadata": {},
   "outputs": [
    {
     "name": "stderr",
     "output_type": "stream",
     "text": [
      "C:\\Users\\Abuova_Aida\\AppData\\Local\\Temp\\ipykernel_9788\\597361849.py:1: DtypeWarning: Columns (66) have mixed types. Specify dtype option on import or set low_memory=False.\n",
      "  data = pd.read_csv(r\"C:\\Users\\Abuova_Aida\\Desktop\\CfE Final Project\\airbnb_london_listing.csv\")\n"
     ]
    }
   ],
   "source": [
    "data = pd.read_csv(r\"C:\\Users\\Abuova_Aida\\Desktop\\CfE Final Project\\airbnb_london_listing.csv\")"
   ]
  },
  {
   "cell_type": "code",
   "execution_count": 6,
   "id": "08700bd4",
   "metadata": {},
   "outputs": [
    {
     "name": "stdout",
     "output_type": "stream",
     "text": [
      "Normalized DataFrame:\n",
      "       Unnamed: 0        id       scrape_id    host_id   host_name  \\\n",
      "0               1  15896822  20170304065726   69018624      Dafina   \n",
      "1               2   4836957  20170304065726   18154504        Anas   \n",
      "2               3  13355982  20170304065726   75741819       Maria   \n",
      "3               4  13472704  20170304065726   77078182      Hannah   \n",
      "4               5  17430865  20170304065726  113972982  Jung Kyung   \n",
      "...           ...       ...             ...        ...         ...   \n",
      "53899       53900  14565735  20170304065726   59310710     Angelos   \n",
      "53900       53901   7312985  20170304065726   38314213        Paul   \n",
      "53901       53902  17248546  20170304065726   29211630      Junior   \n",
      "53902       53903  17184388  20170304065726  115648419         Dee   \n",
      "53903       53904  17215094  20170304065726   51762442       Lance   \n",
      "\n",
      "       host_since host_response_rate  host_acceptance_rate host_is_superhost  \\\n",
      "0      2016-04-26               100%                   NaN                 f   \n",
      "1      2014-07-15               100%                   NaN                 f   \n",
      "2      2016-06-04                NaN                   NaN                 f   \n",
      "3      2016-06-11                NaN                   NaN                 f   \n",
      "4      2017-01-30               100%                   NaN                 f   \n",
      "...           ...                ...                   ...               ...   \n",
      "53899  2016-02-18                81%                   NaN                 f   \n",
      "53900  2015-07-13                NaN                   NaN                 f   \n",
      "53901  2015-03-12                75%                   NaN                 f   \n",
      "53902  2017-02-09                NaN                   NaN                 f   \n",
      "53903  2015-12-19                50%                   NaN                 f   \n",
      "\n",
      "               host_neighbourhood  ...  review_scores_value  requires_license  \\\n",
      "0      RB of Kingston upon Thames  ...                 10.0                 f   \n",
      "1      RB of Kingston upon Thames  ...                 10.0                 f   \n",
      "2      RB of Kingston upon Thames  ...                  8.0                 f   \n",
      "3      RB of Kingston upon Thames  ...                  NaN                 f   \n",
      "4      RB of Kingston upon Thames  ...                  NaN                 f   \n",
      "...                           ...  ...                  ...               ...   \n",
      "53899                 Hammersmith  ...                  6.0                 f   \n",
      "53900                         NaN  ...                  NaN                 f   \n",
      "53901               Knightsbridge  ...                  NaN                 f   \n",
      "53902              LB of Hounslow  ...                  NaN                 f   \n",
      "53903                Isle of Dogs  ...                  NaN                 f   \n",
      "\n",
      "      license jurisdiction_names instant_bookable cancellation_policy  \\\n",
      "0         NaN                NaN                f            flexible   \n",
      "1         NaN                NaN                f            moderate   \n",
      "2         NaN                NaN                f            flexible   \n",
      "3         NaN                NaN                f            flexible   \n",
      "4         NaN                NaN                f            flexible   \n",
      "...       ...                ...              ...                 ...   \n",
      "53899     NaN                NaN                f              strict   \n",
      "53900     NaN                NaN                f            flexible   \n",
      "53901     NaN                NaN                f            flexible   \n",
      "53902     NaN                NaN                t            flexible   \n",
      "53903     NaN                NaN                f            flexible   \n",
      "\n",
      "      require_guest_profile_picture require_guest_phone_verification  \\\n",
      "0                                 f                                f   \n",
      "1                                 f                                f   \n",
      "2                                 f                                f   \n",
      "3                                 f                                f   \n",
      "4                                 f                                f   \n",
      "...                             ...                              ...   \n",
      "53899                             f                                f   \n",
      "53900                             f                                f   \n",
      "53901                             f                                f   \n",
      "53902                             f                                f   \n",
      "53903                             f                                f   \n",
      "\n",
      "       calculated_host_listings_count reviews_per_month  \n",
      "0                                   1              0.32  \n",
      "1                                   1              0.67  \n",
      "2                                   1              0.25  \n",
      "3                                   1               NaN  \n",
      "4                                   1               NaN  \n",
      "...                               ...               ...  \n",
      "53899                              21              0.17  \n",
      "53900                               1               NaN  \n",
      "53901                               3               NaN  \n",
      "53902                               1               NaN  \n",
      "53903                               3               NaN  \n",
      "\n",
      "[53904 rows x 73 columns]\n"
     ]
    }
   ],
   "source": [
    "columns_to_normalize = ['bathrooms', 'bedrooms']    \n",
    "for column in columns_to_normalize:\n",
    "    min_val = data[column].min()\n",
    "    max_val = data[column].max()\n",
    "    data[column] = (data[column] - min_val) / (max_val - min_val)\n",
    "print(\"Normalized DataFrame:\")\n",
    "print(data)"
   ]
  },
  {
   "cell_type": "code",
   "execution_count": 7,
   "id": "180d8c41",
   "metadata": {},
   "outputs": [
    {
     "name": "stdout",
     "output_type": "stream",
     "text": [
      "Summary Statistics Table:\n",
      "               Metric  Average Bedrooms  Average Beds  Average Accommodates\n",
      "0                Mean          0.135398      1.708027              3.036676\n",
      "1              Median          0.100000      1.000000              2.000000\n",
      "2  Standard Deviation          0.084191      1.201165              1.907429\n"
     ]
    }
   ],
   "source": [
    "avg_bedrooms = data['bedrooms'].mean()\n",
    "avg_beds = data['beds'].mean()\n",
    "avg_accommodates = data['accommodates'].mean()\n",
    "summary_stats = {\n",
    "    'Metric': ['Mean', 'Median', 'Standard Deviation'],\n",
    "    'Average Bedrooms': [data['bedrooms'].mean(), data['bedrooms'].median(), data['bedrooms'].std()],\n",
    "    'Average Beds': [data['beds'].mean(), data['beds'].median(), data['beds'].std()], \n",
    "    'Average Accommodates': [data['accommodates'].mean(), data['accommodates'].median(), data['accommodates'].std()],\n",
    "}\n",
    "summary_table = pd.DataFrame(summary_stats)\n",
    "print(\"Summary Statistics Table:\")\n",
    "print(summary_table)"
   ]
  },
  {
   "cell_type": "code",
   "execution_count": 8,
   "id": "afefb18e",
   "metadata": {},
   "outputs": [],
   "source": [
    "import matplotlib.pyplot as plt"
   ]
  },
  {
   "cell_type": "code",
   "execution_count": 9,
   "id": "2db5e437",
   "metadata": {},
   "outputs": [],
   "source": [
    "import seaborn as sns"
   ]
  },
  {
   "cell_type": "code",
   "execution_count": 10,
   "id": "fb9400f1",
   "metadata": {},
   "outputs": [],
   "source": [
    "import pandas as pd"
   ]
  },
  {
   "cell_type": "code",
   "execution_count": 11,
   "id": "6d8f88ab",
   "metadata": {},
   "outputs": [
    {
     "data": {
      "text/plain": [
       "<AxesSubplot:xlabel='bathrooms', ylabel='Count'>"
      ]
     },
     "execution_count": 11,
     "metadata": {},
     "output_type": "execute_result"
    },
    {
     "data": {
      "image/png": "[encoded data removed]",
      "text/plain": [
       "<Figure size 720x432 with 1 Axes>"
      ]
     },
     "metadata": {},
     "output_type": "display_data"
    }
   ],
   "source": [
    "sns.set(style=\"whitegrid\")\n",
    "plt.figure(figsize=(10, 6))\n",
    "sns.histplot(data['bathrooms'], bins=30, kde=True, color='red')"
   ]
  },
  {
   "cell_type": "code",
   "execution_count": 12,
   "id": "e7e447be",
   "metadata": {},
   "outputs": [],
   "source": [
    "import numpy as np"
   ]
  },
  {
   "cell_type": "code",
   "execution_count": 13,
   "id": "9631d7a3",
   "metadata": {},
   "outputs": [
    {
     "name": "stdout",
     "output_type": "stream",
     "text": [
      "Missing values in each column:\n",
      "host_name                           9\n",
      "host_since                          9\n",
      "host_response_rate              13380\n",
      "host_acceptance_rate            53904\n",
      "host_is_superhost                   9\n",
      "host_neighbourhood              13107\n",
      "host_listings_count                 9\n",
      "host_total_listings_count           9\n",
      "host_has_profile_pic                9\n",
      "host_identity_verified              9\n",
      "neighbourhood                   17984\n",
      "neighbourhood_group_cleansed    53904\n",
      "city                               21\n",
      "state                           24774\n",
      "zipcode                          1362\n",
      "market                           1491\n",
      "bathrooms                         260\n",
      "bedrooms                           93\n",
      "beds                              173\n",
      "square_feet                     53322\n",
      "weekly_price                    42162\n",
      "monthly_price                   45269\n",
      "security_deposit                30230\n",
      "cleaning_fee                    21421\n",
      "has_availability                53904\n",
      "first_review                    16466\n",
      "last_review                     16466\n",
      "review_scores_rating            17262\n",
      "review_scores_accuracy          17375\n",
      "review_scores_cleanliness       17342\n",
      "review_scores_checkin           17430\n",
      "review_scores_communication     17344\n",
      "review_scores_location          17417\n",
      "review_scores_value             17427\n",
      "license                         53904\n",
      "jurisdiction_names              53903\n",
      "reviews_per_month               16466\n",
      "dtype: int64\n",
      "Data types:\n",
      "Unnamed: 0                            int64\n",
      "id                                    int64\n",
      "scrape_id                             int64\n",
      "host_id                               int64\n",
      "host_name                            object\n",
      "                                     ...   \n",
      "cancellation_policy                  object\n",
      "require_guest_profile_picture        object\n",
      "require_guest_phone_verification     object\n",
      "calculated_host_listings_count        int64\n",
      "reviews_per_month                   float64\n",
      "Length: 73, dtype: object\n"
     ]
    }
   ],
   "source": [
    "missing_values = data.isnull().sum()\n",
    "print(\"Missing values in each column:\")\n",
    "print(missing_values[missing_values>0])\n",
    "print(\"Data types:\")\n",
    "print(data.dtypes)"
   ]
  },
  {
   "cell_type": "code",
   "execution_count": 14,
   "id": "bbc7da3e",
   "metadata": {},
   "outputs": [],
   "source": [
    "price_threshold_low = 100\n",
    "price_threshold_high = 500\n",
    "data['hashtags'] = data.apply(lambda row: \", \".join([\n",
    "    \"#Superhost\" if row['host_is_superhost'] == 't' else \"\",\n",
    "    \"#EntirePlace\" if row['room_type'] == \"Entire home/apt\" else \"\",\n",
    "    \"#GreatLocation\" if pd.notnull(row['review_scores_location']) and row['review_scores_location'] >= 9 else \"\"\n",
    "]).replace(\", ,\", \"\").strip(\", \"), axis=1)"
   ]
  },
  {
   "cell_type": "code",
   "execution_count": 15,
   "id": "09aa1dc9",
   "metadata": {},
   "outputs": [
    {
     "data": {
      "text/plain": [
       "53899                \n",
       "53900    #EntirePlace\n",
       "53901    #EntirePlace\n",
       "53902    #EntirePlace\n",
       "53903                \n",
       "Name: hashtags, dtype: object"
      ]
     },
     "execution_count": 15,
     "metadata": {},
     "output_type": "execute_result"
    }
   ],
   "source": [
    "data['hashtags'].tail()"
   ]
  },
  {
   "cell_type": "code",
   "execution_count": 16,
   "id": "95d84368",
   "metadata": {},
   "outputs": [
    {
     "name": "stdout",
     "output_type": "stream",
     "text": [
      "    accommodates\n",
      "0              0\n",
      "1              1\n",
      "2              2\n",
      "3              3\n",
      "4              4\n",
      "5              5\n",
      "6              6\n",
      "7              7\n",
      "8              8\n",
      "9              9\n",
      "10            10\n",
      "11            11\n",
      "12            12\n",
      "13            13\n",
      "14            14\n",
      "15            15\n",
      "16            16\n",
      "accommodates    int64\n",
      "dtype: object\n",
      "Filtered data by number of beds:\n",
      "    Unnamed: 0        id       scrape_id   host_id host_name  host_since  \\\n",
      "1            2   4836957  20170304065726  18154504      Anas  2014-07-15   \n",
      "7            8  12296555  20170304065726  33096320   Sabrina  2015-05-11   \n",
      "10          11    735298  20170304065726   3822323     Julia  2012-10-10   \n",
      "12          13   5344655  20170304065726  27697324      Jean  2015-02-13   \n",
      "13          14  14912894  20170304065726  72718519    Leanne  2016-05-18   \n",
      "\n",
      "   host_response_rate  host_acceptance_rate host_is_superhost  \\\n",
      "1                100%                   NaN                 f   \n",
      "7                 90%                   NaN                 f   \n",
      "10                NaN                   NaN                 f   \n",
      "12               100%                   NaN                 t   \n",
      "13               100%                   NaN                 f   \n",
      "\n",
      "            host_neighbourhood  ...  requires_license  license  \\\n",
      "1   RB of Kingston upon Thames  ...                 f      NaN   \n",
      "7                          NaN  ...                 f      NaN   \n",
      "10  RB of Kingston upon Thames  ...                 f      NaN   \n",
      "12  RB of Kingston upon Thames  ...                 f      NaN   \n",
      "13                         NaN  ...                 f      NaN   \n",
      "\n",
      "   jurisdiction_names instant_bookable cancellation_policy  \\\n",
      "1                 NaN                f            moderate   \n",
      "7                 NaN                f              strict   \n",
      "10                NaN                f            moderate   \n",
      "12                NaN                f            moderate   \n",
      "13                NaN                f            flexible   \n",
      "\n",
      "   require_guest_profile_picture require_guest_phone_verification  \\\n",
      "1                              f                                f   \n",
      "7                              f                                f   \n",
      "10                             f                                f   \n",
      "12                             f                                f   \n",
      "13                             f                                f   \n",
      "\n",
      "   calculated_host_listings_count  reviews_per_month  \\\n",
      "1                               1               0.67   \n",
      "7                               1               1.04   \n",
      "10                              1               0.11   \n",
      "12                              1               1.64   \n",
      "13                              1               1.03   \n",
      "\n",
      "                        hashtags  \n",
      "1                 #GreatLocation  \n",
      "7   #EntirePlace, #GreatLocation  \n",
      "10                #GreatLocation  \n",
      "12     #Superhost #GreatLocation  \n",
      "13                #GreatLocation  \n",
      "\n",
      "[5 rows x 74 columns]\n"
     ]
    }
   ],
   "source": [
    "data1 = pd.DataFrame({\n",
    "    'accommodates': range(17)\n",
    "})\n",
    "\n",
    "print(data1)\n",
    "print(data1.dtypes)\n",
    "\n",
    "filtered_data1 = data.query(\"availability_365 >= 180\")\n",
    "\n",
    "print(\"Filtered data by number of beds:\")\n",
    "print(filtered_data1.head())"
   ]
  },
  {
   "cell_type": "code",
   "execution_count": null,
   "id": "5b5ef096",
   "metadata": {},
   "outputs": [],
   "source": []
  }
 ],
 "metadata": {
  "kernelspec": {
   "display_name": "Python 3 (ipykernel)",
   "language": "python",
   "name": "python3"
  },
  "language_info": {
   "codemirror_mode": {
    "name": "ipython",
    "version": 3
   },
   "file_extension": ".py",
   "mimetype": "text/x-python",
   "name": "python",
   "nbconvert_exporter": "python",
   "pygments_lexer": "ipython3",
   "version": "3.9.12"
  }
 },
 "nbformat": 4,
 "nbformat_minor": 5
}
